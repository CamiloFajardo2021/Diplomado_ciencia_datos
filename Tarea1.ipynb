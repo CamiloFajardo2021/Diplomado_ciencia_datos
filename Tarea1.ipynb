{
 "cells": [
  {
   "cell_type": "markdown",
   "id": "7097de19-2b89-4d62-bad9-f5e349c48b62",
   "metadata": {},
   "source": [
    "[![Open In Colab](https://colab.research.google.com/assets/colab-badge.svg)](https://colab.research.google.com/github/CamiloFajardo2021/Diplomado_ciencia_datos/blob/main/Tarea1.ipynb)\n",
    "# Leccion: Distribución normal\n"
   ]
  },
  {
   "cell_type": "markdown",
   "id": "fb1f9362-850d-48da-9980-81fcf98a49be",
   "metadata": {},
   "source": [
    "## Autor : Camilo Fajardo Torres\n",
    "\n",
    "Soy estudiante de fisica de ultimo semestre de la *universidad Nacional de Colombia*, en la sede Bogotá.\n",
    "Tengo 22 años, me gusta aprender nuevas cosas, la linea en la cual me quiero especializar en mi carrera es la simulación computacional y la computación cuantica.\n",
    "\n",
    "[![Esta es una imagen de ejemplo](https://www.python.org/static/community_logos/python-logo.png)](https://www.python.org/static/community_logos/python-logo.png)"
   ]
  },
  {
   "cell_type": "markdown",
   "id": "b955dd7b-ebcf-4442-8266-f69c98c9d233",
   "metadata": {
    "tags": []
   },
   "source": [
    "# Table of Contents\n",
    "1. [Concepto](#Concepto)\n",
    "2. [Ejemplo](#Ejemplo)\n",
    "3. [GitHub](#GitHubhttpwwwfourthexamplecom)\n",
    "4. [Referencias](#Referencias)\n",
    "\n",
    "\n",
    "## Concepto\n",
    "\n",
    "La distribución normal, es una distribución probabilistica lo cual significa que cumple dos condiciones\n",
    " - $\\int_{-\\infty}^{\\infty}P(x)dx = 1$\n",
    " - $0<P(x)<1$\n",
    " \n",
    "Se define matematicamente como\n",
    "\n",
    " > $$P(x)=\\frac{1}{2\\sigma\\pi}exp(-\\frac{(x-\\mu)^{2}}{2\\sigma^{2}})$$\n",
    " > $\\sigma$ : Desviación estandar,\n",
    " > $\\mu$ : media\n",
    "![Distribución normal!](dist_norm.png \"Dist_norm\")\n",
    "\n",
    "## Ejemplo\n",
    "Se recolecta las notas del parcial de Calculo diferencial para un curso de 300 estudiantes. Las notas tienen una distribución mormal, con $\\mu = 3.8$ , $\\sigma =0.8$. Se quiere saber la nota minima para la cual el 68% del curso obtuvo uno nota mejor. Esto quiere decir,\n",
    "> Se busca $x$ tal que \n",
    "  $P(x<X)=0.68$, con X la nota de un estudiante.\n",
    "  \n",
    "  ![Ejemplo Distribución normal!](example.jpeg \"Dist_norm_example\")\n",
    "  \n",
    "> El x que se esta buscando es 3.43. **¿Pero que significa esto?**\n",
    "  La probabilidad de que un estudiante de la muestra tenga una nota mayor a 3.43 es del 68%.Dado que los datos siguen una distribución normal esto significa que el 68% del curso obtuvo una nota mayor que 3.43 .\n",
    "## [GitHub](http://www.github.com/CamiloFajardo2021) \n",
    "## Referencias\n",
    " - [1](https://homepage.divms.uiowa.edu/~mbognar/applets/normal.html) Applet distribución normal."
   ]
  },
  {
   "cell_type": "code",
   "execution_count": null,
   "id": "63c12bc5-0080-4871-8c85-65f7054c74ae",
   "metadata": {},
   "outputs": [],
   "source": []
  }
 ],
 "metadata": {
  "kernelspec": {
   "display_name": "Python 3 (ipykernel)",
   "language": "python",
   "name": "python3"
  },
  "language_info": {
   "codemirror_mode": {
    "name": "ipython",
    "version": 3
   },
   "file_extension": ".py",
   "mimetype": "text/x-python",
   "name": "python",
   "nbconvert_exporter": "python",
   "pygments_lexer": "ipython3",
   "version": "3.10.6"
  }
 },
 "nbformat": 4,
 "nbformat_minor": 5
}
