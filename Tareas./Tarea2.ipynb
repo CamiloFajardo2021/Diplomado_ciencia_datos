{
 "cells": [
  {
   "cell_type": "markdown",
   "id": "57f68169-171d-4d41-ac5b-c1f919b8a981",
   "metadata": {},
   "source": [
    "[![Open In Colab](https://colab.research.google.com/assets/colab-badge.svg)](https://colab.research.google.com/github.com/CamiloFajardo2021/Diplomado_ciencia_datos/blob/main/Tareas./Tarea2.ipynb)\n",
    "\n",
    "# Tarea 2 : Funciones"
   ]
  },
  {
   "cell_type": "markdown",
   "id": "de97e5a6-39e4-4f14-912f-a2100784ed01",
   "metadata": {},
   "source": [
    "## Escriba una función  que reciba la fecha de nacimiento de un a persona y calcule la edad de la persona"
   ]
  },
  {
   "cell_type": "code",
   "execution_count": 27,
   "id": "1615d641-3d00-43d1-9882-ec331e7dd9c3",
   "metadata": {},
   "outputs": [],
   "source": [
    "import datetime\n",
    "def edad(date):\n",
    "    if type(date) is int:\n",
    "        date = str(date) \n",
    "    hoy = datetime.date.today()\n",
    "    try:\n",
    "        año = int(date[0:4])\n",
    "        mes = int(date[4:6])\n",
    "        dia = int(date[6:8])\n",
    "    except ValueError:\n",
    "        print('El formato es invalido')\n",
    "        return\n",
    "    fecha_nac = datetime.date(año,mes,dia)\n",
    "    edad_dias = (hoy-fecha_nac).days\n",
    "    edad_años = edad_dias/365\n",
    "    ed = int(edad_años)\n",
    "    print('La edad es :',ed,'años')\n",
    "    return ed"
   ]
  },
  {
   "cell_type": "markdown",
   "id": "e40cc133-dba8-4ebe-823e-ecbfeb77f7c1",
   "metadata": {},
   "source": [
    "## Crea una función EscribirCentrado, que reciba como parámetro un texto y lo escriba centrado en pantalla (suponiendo una anchura de 80 columnas; pista: deberás escribir 40 - longitud/2 espacios antes del texto).  \n"
   ]
  },
  {
   "cell_type": "code",
   "execution_count": 48,
   "id": "f6dae964-4bba-41cd-9011-1817a6a64549",
   "metadata": {},
   "outputs": [],
   "source": [
    "def EscribirCentrado(s):\n",
    "    l = len(s)\n",
    "    sp1 = int(40-l/2)\n",
    "    space1=\" \"\n",
    "    for i in range(sp1):\n",
    "        space1 =space1 + ' '\n",
    "    space1 = space1 + s\n",
    "    for i in range(sp1):\n",
    "        space1 = space1 + ' '\n",
    "    print(space1)"
   ]
  },
  {
   "cell_type": "code",
   "execution_count": 49,
   "id": "43ad0a63-1297-49c1-b5dc-4eedd666eb89",
   "metadata": {},
   "outputs": [
    {
     "name": "stdout",
     "output_type": "stream",
     "text": [
      "                                       hola                                      \n"
     ]
    }
   ],
   "source": [
    "EscribirCentrado('hola')"
   ]
  },
  {
   "cell_type": "markdown",
   "id": "118664cb-e38f-4a57-a7a4-21f0d33fdfea",
   "metadata": {},
   "source": [
    " ## Construya una función decorada que reciba un texto y lo escriba marcado con Markdown en itálica y resaltada (bold). Revise la lección de decoradores, no vista en clase."
   ]
  },
  {
   "cell_type": "code",
   "execution_count": 22,
   "id": "d35fb3f9-a58e-443e-90f0-45d02d82438f",
   "metadata": {},
   "outputs": [
    {
     "name": "stdout",
     "output_type": "stream",
     "text": [
      "<b><i>hola</i></b>\n"
     ]
    }
   ],
   "source": [
    "#Para definir un decorador, debe definir un objeto invocable, como una funcion que toma otra funcion como parametro y devuelve una nueva funcion\n",
    "\n",
    "# decoradores\n",
    "def make_bold(fn):\n",
    "    def makebold_wrapper(t):\n",
    "        return \"<b>\" + fn(t) + \"</b>\"\n",
    "    return makebold_wrapper\n",
    "\n",
    "def make_italic(fn):\n",
    "    def makeitalic_wrapper(t):\n",
    "        return \"<i>\" + fn(t) + \"</i>\"\n",
    "    return makeitalic_wrapper\n",
    "\n",
    "def printt(fn):\n",
    "    def make_print(t):\n",
    "        print(fn(t))\n",
    "    return make_print\n",
    "\n",
    "# aplica los decoradores\n",
    "@printt\n",
    "@make_bold\n",
    "@make_italic\n",
    "def text(t):\n",
    "    return str(t)\n",
    "\n",
    "\n",
    "text('hola')\n",
    "\n"
   ]
  },
  {
   "cell_type": "markdown",
   "id": "905e5943-a2b3-4007-96e4-de98fc0b3dc8",
   "metadata": {},
   "source": [
    "##  Crea un programa que pida dos número enteros al usuario y diga si alguno de ellos es múltiplo del otro."
   ]
  },
  {
   "cell_type": "code",
   "execution_count": 28,
   "id": "ffb83eec-5ee0-47f3-9473-c5bf5d600d15",
   "metadata": {},
   "outputs": [
    {
     "name": "stdin",
     "output_type": "stream",
     "text": [
      "inserte un entero 20\n",
      "inserte otro entero 5\n"
     ]
    },
    {
     "name": "stdout",
     "output_type": "stream",
     "text": [
      "los enteros 20 y 5 son multiplos\n"
     ]
    }
   ],
   "source": [
    "def is_mult():\n",
    "    x = input('inserte un entero')\n",
    "    y = input('inserte otro entero')\n",
    "    x= int(x)\n",
    "    y = int(y)\n",
    "    if x%y==0 or y%x==0:\n",
    "        print('los enteros',x,'y',y,'son multiplos')\n",
    "    else:\n",
    "        print('no son multiplos')\n",
    "    return\n",
    "\n",
    "is_mult()"
   ]
  },
  {
   "cell_type": "markdown",
   "id": "8b558d6e-34eb-49af-b246-99eba1db3e5d",
   "metadata": {},
   "source": [
    "## Crear una función re reciba una lista  de 24 valores de temperatura leída  hora en un día y que calcule la temperatura media  Cree una lista con 24 valores de temperatura de un día de Bogotá y pruebe su función. Invente los datos."
   ]
  },
  {
   "cell_type": "code",
   "execution_count": 33,
   "id": "3db53dbe-9b11-4836-b1d7-08106dffb676",
   "metadata": {},
   "outputs": [
    {
     "data": {
      "text/plain": [
       "18.041666666666668"
      ]
     },
     "execution_count": 33,
     "metadata": {},
     "output_type": "execute_result"
    }
   ],
   "source": [
    "def temp_med(A):\n",
    "    summa = 0\n",
    "    for i in A:\n",
    "        summa += i\n",
    "    return summa/len(A)\n",
    " #Test\n",
    "Tem=[13,15,16,14,15,19,18,20,22,24,26,26,25,22,19,20,18,17,15,16,14,14,13,12]\n",
    "temp_med(Tem)"
   ]
  },
  {
   "cell_type": "markdown",
   "id": "d83ad43d-2893-4571-9331-97d12b1fd1dd",
   "metadata": {},
   "source": [
    "##  Diseñar una función que calcule el área y el perímetro de una circunferencia. "
   ]
  },
  {
   "cell_type": "code",
   "execution_count": 1,
   "id": "8d157d2f-7ab8-4d22-9e61-1ef00a8a8899",
   "metadata": {},
   "outputs": [],
   "source": [
    "import math\n",
    "def val_cir(r):\n",
    "    area = math.pi*r**2\n",
    "    peri = 2*math.pi*r\n",
    "    return area,peri"
   ]
  },
  {
   "cell_type": "code",
   "execution_count": 2,
   "id": "2e8bd30f-f893-4328-91e1-7672f906268d",
   "metadata": {},
   "outputs": [
    {
     "data": {
      "text/plain": [
       "(78.53981633974483, 31.41592653589793)"
      ]
     },
     "execution_count": 2,
     "metadata": {},
     "output_type": "execute_result"
    }
   ],
   "source": [
    "val_cir(5)"
   ]
  },
  {
   "cell_type": "markdown",
   "id": "99cf63fc-a6fd-43fd-b0f5-25f0babccce8",
   "metadata": {},
   "source": [
    "## Crear una función  llamada “Login”, que recibe un nombre de usuario y una contraseña y devuelva Verdadero si el nombre de usuario es “usuario1” y la contraseña es “asdasd”. Además recibe el número de intentos que se ha intentado hacer login y si no se ha podido hacer login incremente este valor.\n"
   ]
  },
  {
   "cell_type": "code",
   "execution_count": 19,
   "id": "44dea5ed-8101-4086-bcfd-a8a30ab0355f",
   "metadata": {},
   "outputs": [],
   "source": [
    "def Login(count=0):\n",
    "    n=input('Inserte usuario')\n",
    "    p=input('Digite clave')\n",
    "    if n == 'usaurio1' and p == 'asdasd':\n",
    "        return True\n",
    "    else:\n",
    "        count += 1\n",
    "        print('El numero de intentos es: ',count)\n",
    "        Login(count)\n",
    "        \n",
    "        \n",
    "    "
   ]
  },
  {
   "cell_type": "code",
   "execution_count": 20,
   "id": "26e2696c-dd70-46f2-bf3a-8751921b3c7b",
   "metadata": {},
   "outputs": [
    {
     "name": "stdin",
     "output_type": "stream",
     "text": [
      "Inserte usuario Us1\n",
      "Digite clave 22\n"
     ]
    },
    {
     "name": "stdout",
     "output_type": "stream",
     "text": [
      "El numero de intentos es:  1\n"
     ]
    },
    {
     "name": "stdin",
     "output_type": "stream",
     "text": [
      "Inserte usuario Us2\n",
      "Digite clave 22\n"
     ]
    },
    {
     "name": "stdout",
     "output_type": "stream",
     "text": [
      "El numero de intentos es:  2\n"
     ]
    },
    {
     "name": "stdin",
     "output_type": "stream",
     "text": [
      "Inserte usuario Usuario1\n",
      "Digite clave asdasd\n"
     ]
    },
    {
     "name": "stdout",
     "output_type": "stream",
     "text": [
      "El numero de intentos es:  3\n"
     ]
    },
    {
     "name": "stdin",
     "output_type": "stream",
     "text": [
      "Inserte usuario usuario1\n",
      "Digite clave asdasd\n"
     ]
    },
    {
     "name": "stdout",
     "output_type": "stream",
     "text": [
      "El numero de intentos es:  4\n"
     ]
    },
    {
     "name": "stdin",
     "output_type": "stream",
     "text": [
      "Inserte usuario usaurio1\n",
      "Digite clave asdasd\n"
     ]
    }
   ],
   "source": [
    "Login()"
   ]
  },
  {
   "cell_type": "markdown",
   "id": "57606b78-43ca-466b-9478-5dfc8773e4aa",
   "metadata": {},
   "source": [
    "## Crear una función recursiva que permita calcular el factorial de un número. Realiza un programa principal donde se lea un entero y se muestre el resultado del factorial. Revise la lección de funciones."
   ]
  },
  {
   "cell_type": "code",
   "execution_count": 24,
   "id": "5538d88b-ac82-4970-97af-ba18e1615d6f",
   "metadata": {},
   "outputs": [],
   "source": [
    "def factorial(n):\n",
    "    if type(n) != int:\n",
    "        print('Error, no es un entero')\n",
    "        return\n",
    "    if n==0:\n",
    "        return 1\n",
    "    else:\n",
    "        return factorial(n-1)*n\n",
    "    \n",
    "        "
   ]
  },
  {
   "cell_type": "code",
   "execution_count": 28,
   "id": "7547221f-4fd7-45e4-b7ff-2f06671cec1c",
   "metadata": {},
   "outputs": [
    {
     "data": {
      "text/plain": [
       "720"
      ]
     },
     "execution_count": 28,
     "metadata": {},
     "output_type": "execute_result"
    }
   ],
   "source": [
    "factorial(6)"
   ]
  },
  {
   "cell_type": "markdown",
   "id": "9ee6d827-8891-41bb-b11b-a799f06f82f8",
   "metadata": {},
   "source": [
    "## Escribir dos funciones que permitan calcular:\n",
    " - La cantidad de segundos en un tiempo dado en horas, minutos y segundos.\n",
    " - La cantidad de horas, minutos y segundos de un tiempo dado en segundos\n"
   ]
  },
  {
   "cell_type": "code",
   "execution_count": 4,
   "id": "b5f0c689-b2e5-4a67-a321-bfb40eee8c56",
   "metadata": {},
   "outputs": [],
   "source": [
    "def conv1(t):\n",
    "    h = int(t.split(',')[0])\n",
    "    m = int(t.split(',')[1])\n",
    "    s = int(t.split(',')[2])\n",
    "    m_s = m*60\n",
    "    h_s = h*3600\n",
    "    return h_s + m_s + s"
   ]
  },
  {
   "cell_type": "code",
   "execution_count": 5,
   "id": "e0e2e042-55a3-449e-b0d4-f30eea4f9806",
   "metadata": {},
   "outputs": [
    {
     "data": {
      "text/plain": [
       "79830"
      ]
     },
     "execution_count": 5,
     "metadata": {},
     "output_type": "execute_result"
    }
   ],
   "source": [
    "conv1('22,10,30')"
   ]
  },
  {
   "cell_type": "markdown",
   "id": "432c3440-6a16-4ca6-9f5a-57e668b628da",
   "metadata": {},
   "source": [
    "## Crea una función  que lea una tupla, invierta los valores de la tupla y regrese una nueva tupla invirtiendo los valores. Recuerde que las tuplas son inmutables.\n"
   ]
  },
  {
   "cell_type": "code",
   "execution_count": 29,
   "id": "8a77591b-c839-452a-a39c-6efb28591535",
   "metadata": {},
   "outputs": [],
   "source": [
    "def inv(a):\n",
    "    a1,a2 = a\n",
    "    return a2,a1"
   ]
  },
  {
   "cell_type": "code",
   "execution_count": 31,
   "id": "9fbbcab9-b8db-46ee-b6ee-7e91e45fb265",
   "metadata": {},
   "outputs": [
    {
     "data": {
      "text/plain": [
       "('b2', 'b1')"
      ]
     },
     "execution_count": 31,
     "metadata": {},
     "output_type": "execute_result"
    }
   ],
   "source": [
    "inv(('b1','b2'))"
   ]
  },
  {
   "cell_type": "markdown",
   "id": "cbecc8ee-5e85-4db3-a5fd-73402ab2ec78",
   "metadata": {},
   "source": [
    "## Escriba una función que lea una lista y calcule la media geométrica de sus valores, usando funtools.reduce."
   ]
  },
  {
   "cell_type": "code",
   "execution_count": 43,
   "id": "c35e36f1-d50c-461b-bb0f-7e18c92e3f84",
   "metadata": {},
   "outputs": [],
   "source": [
    "import functools\n",
    "def med_geo(lis):\n",
    "    print(functools.reduce(lambda a, b: (a+b)/2, lis))"
   ]
  },
  {
   "cell_type": "code",
   "execution_count": 45,
   "id": "8b4e6004-3adc-4c57-b106-3b66896c5876",
   "metadata": {},
   "outputs": [
    {
     "name": "stdout",
     "output_type": "stream",
     "text": [
      "1.5\n"
     ]
    }
   ],
   "source": [
    "med_geo([1,1,1,2])"
   ]
  },
  {
   "cell_type": "markdown",
   "id": "9a302658-157c-4a61-b56a-cca1e849b026",
   "metadata": {},
   "source": [
    "https://www.datos.gov.co/Econom-a-y-Finanzas/Transacciones-a-trav-s-de-los-canales-de-distribuc/bn4c-kptq/data"
   ]
  }
 ],
 "metadata": {
  "kernelspec": {
   "display_name": "Python 3 (ipykernel)",
   "language": "python",
   "name": "python3"
  },
  "language_info": {
   "codemirror_mode": {
    "name": "ipython",
    "version": 3
   },
   "file_extension": ".py",
   "mimetype": "text/x-python",
   "name": "python",
   "nbconvert_exporter": "python",
   "pygments_lexer": "ipython3",
   "version": "3.10.6"
  }
 },
 "nbformat": 4,
 "nbformat_minor": 5
}
